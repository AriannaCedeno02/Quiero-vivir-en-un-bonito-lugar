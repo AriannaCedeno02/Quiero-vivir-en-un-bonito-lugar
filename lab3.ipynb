In [ ]:
import pandas as pd
data = pd.read_csv("Datoslimpio5.csv")
data
Out[ ]:
Numero	Ubicación	Nombre	Disponibilidad	precio de Venta	Precio de Alquiler	Recamaras	Baños	Dimensión	Tipo de vivienda	vivienda nueva /vivienda de segunta
0	2	Calidonia	WHITE	VENTA	250000	NaN	2	2	119	APARTAMENTOS	2.0
1	2	Calidonia	H2O	VENTA	589000	NaN	3	3	405	APARTAMENTOS	1.0
2	2	Calidonia	WHITE	VENTA	338000	NaN	3	3	169	APARTAMENTOS	2.0
3	1	Bella Vista	RIVAGE	VENTA	390000	NaN	2	2	177	APARTAMENTOS	2.0
4	1	Bella Vista	WATERS ON THE BAY	VENTALQUILER	370000	NaN	2	2	122	APARTAMENTOS	2.0
...	...	...	...	...	...	...	...	...	...	...	...
370	4	San Francisco	PLAZA REAL	VENTA	290000	NaN	3	2	150	APARTAMENTOS	2.0
371	4	San Francisco	PREMIUM TOWER	VENTA	425000	NaN	3	3	179	APARTAMENTOS	1.0
372	4	San Francisco	PACIFIC BAY	VENTALQUILER	530000	NaN	3	2	239	APARTAMENTOS	1.0
373	4	San Francisco	LATORRACA	VENTA	260000	NaN	3	3	113	APARTAMENTOS	2.0
374	4	San Francisco	TERRAZAS DEL PACIFICO	VENTA	970000	NaN	4	4	370	APARTAMENTOS	1.0
375 rows × 11 columns

In [ ]:
#data.info()
In [ ]:
! wget https://raw.githubusercontent.com/GuillermoEspino/Casas/main/salario2.csv
--2020-11-10 03:32:52--  https://raw.githubusercontent.com/GuillermoEspino/Casas/main/salario2.csv
Resolving raw.githubusercontent.com (raw.githubusercontent.com)... 151.101.0.133, 151.101.64.133, 151.101.128.133, ...
Connecting to raw.githubusercontent.com (raw.githubusercontent.com)|151.101.0.133|:443... connected.
HTTP request sent, awaiting response... 200 OK
Length: 916 [text/plain]
Saving to: ‘salario2.csv’

salario2.csv        100%[===================>]     916  --.-KB/s    in 0s      

2020-11-10 03:32:52 (52.7 MB/s) - ‘salario2.csv’ saved [916/916]

In [ ]:
import pandas as pd
import numpy as np

data2 = pd.read_csv("salario2.csv")
data2
Out[ ]:
usuarios	salarios
0	1	2369
1	2	2308
2	3	2669
3	4	2699
4	5	1851
...	...	...
95	96	2540
96	97	2436
97	98	2540
98	99	2803
99	100	2105
100 rows × 2 columns

In [ ]:
#print(data2['salarios '] )
In [ ]:
from random import choice
descuento = (data2['salarios '] * 0.4)
#print (descuento)
u_aleatorio = choice(descuento)
In [ ]:
ICN = 0.055/12
ICV = 0.015/12
In [ ]:
precioVenta= data['precio de Venta']
#print (precioVenta)
In [ ]:
len(data['vivienda nueva /vivienda de segunta'])
import math
import numpy as np
vec = []
for pos, estado in enumerate(data['vivienda nueva /vivienda de segunta']):
 
  if estado == 2.0:
    de = (ICV * precioVenta[pos])
    nu1 = 1+ICV
    nu = (1 - math.pow((nu1),-360)) 
    p = round(de/nu)
    vec.append(p)
   # vec=np.array(p)
    #print("Valor 2.0 ==> {}".format(p))
  else:
    de = (ICN * precioVenta[pos])
    nu1 = 1+ICN
    nu = 1 - math.pow((nu1),-360)  
    p1 = round(de/nu)
    vec.append(p1)
   # vec=np.array(p1)
    #print("valor 1.0 ==> {}".format(p1))
In [ ]:
print('Usuario seleccionado: ')
print(round(u_aleatorio))
Usuario seleccionado: 
737.0
In [ ]:
df=pd.DataFrame(data)
comparacion = []
for i in range(374):
 if vec[i] <= u_aleatorio:
   print(df.iloc[i])
   print('')
   comparacion.append(vec[i])
Numero                                                             5
Ubicación                              Punta Pacifica, San francisco
Nombre                                                         OASIS
Disponibilidad                                                 VENTA
precio de Venta                                               210000
Precio de Alquiler                                               NaN
Recamaras                                                          2
Baños                                                              1
Dimensión                                                         99
Tipo de vivienda                                        APARTAMENTOS
vivienda nueva /vivienda de segunta                                2
Name: 38, dtype: object

Numero                                                             5
Ubicación                              Punta Pacifica, San francisco
Nombre                                                  PACIFIC BLUE
Disponibilidad                                                 VENTA
precio de Venta                                               190000
Precio de Alquiler                                               NaN
Recamaras                                                          2
Baños                                                              2
Dimensión                                                         88
Tipo de vivienda                                        APARTAMENTOS
vivienda nueva /vivienda de segunta                                2
Name: 70, dtype: object

Numero                                                    6
Ubicación                              Obarrio, Bella Vista
Nombre                                            PH Denovo
Disponibilidad                                        VENTA
precio de Venta                                      205000
Precio de Alquiler                                      NaN
Recamaras                                                 2
Baños                                                     2
Dimensión                                               110
Tipo de vivienda                               APARTAMENTOS
vivienda nueva /vivienda de segunta                       2
Name: 115, dtype: object

Numero                                                                       1
Ubicación                                                          Bella Vista
Nombre                                 MEGAPOLIS PISO ALTO | EVALUAMOS OFERTAS
Disponibilidad                                                           VENTA
precio de Venta                                                         101000
Precio de Alquiler                                                         NaN
Recamaras                                                                    1
Baños                                                                        1
Dimensión                                                                   43
Tipo de vivienda                                                  APARTAMENTOS
vivienda nueva /vivienda de segunta                                          2
Name: 129, dtype: object

Numero                                                 7
Ubicación                                 Costa del Este
Nombre                                 Green Bay III 22B
Disponibilidad                                     VENTA
precio de Venta                                   165000
Precio de Alquiler                                   NaN
Recamaras                                              3
Baños                                                  2
Dimensión                                            114
Tipo de vivienda                            APARTAMENTOS
vivienda nueva /vivienda de segunta                    2
Name: 154, dtype: object

Numero                                                        7
Ubicación                                        Costa del Este
Nombre                                 GREEN BAY COSTA DEL ESTE
Disponibilidad                                            VENTA
precio de Venta                                          180000
Precio de Alquiler                                          NaN
Recamaras                                                     3
Baños                                                         2
Dimensión                                                   125
Tipo de vivienda                                   APARTAMENTOS
vivienda nueva /vivienda de segunta                           2
Name: 184, dtype: object

Numero                                             4
Ubicación                              San Francisco
Nombre                                    Aquamarina
Disponibilidad                                 VENTA
precio de Venta                               130000
Precio de Alquiler                               NaN
Recamaras                                          2
Baños                                              1
Dimensión                                        183
Tipo de vivienda                        APARTAMENTOS
vivienda nueva /vivienda de segunta                2
Name: 296, dtype: object

Numero                                                                      4
Ubicación                                                       San Francisco
Nombre                                 ALQUILADO Y GENERANDO INGRESOS MENSUAL
Disponibilidad                                                          VENTA
precio de Venta                                                        160000
Precio de Alquiler                                                        NaN
Recamaras                                                                   2
Baños                                                                       5
Dimensión                                                                  86
Tipo de vivienda                                                 APARTAMENTOS
vivienda nueva /vivienda de segunta                                         2
Name: 297, dtype: object

Numero                                             4
Ubicación                              San Francisco
Nombre                                 DIAMOND TOWER
Disponibilidad                                 VENTA
precio de Venta                               180000
Precio de Alquiler                               NaN
Recamaras                                          3
Baños                                              1
Dimensión                                         92
Tipo de vivienda                        APARTAMENTOS
vivienda nueva /vivienda de segunta                2
Name: 301, dtype: object

Numero                                                      4
Ubicación                                       San Francisco
Nombre                                 San Francisco Bay 26-B
Disponibilidad                                          VENTA
precio de Venta                                        189000
Precio de Alquiler                                        NaN
Recamaras                                                   2
Baños                                                       3
Dimensión                                                  95
Tipo de vivienda                                 APARTAMENTOS
vivienda nueva /vivienda de segunta                         2
Name: 306, dtype: object

Numero                                             4
Ubicación                              San Francisco
Nombre                                       Concept
Disponibilidad                          VENTALQUILER
precio de Venta                               210000
Precio de Alquiler                               NaN
Recamaras                                          2
Baños                                              2
Dimensión                                        800
Tipo de vivienda                        APARTAMENTOS
vivienda nueva /vivienda de segunta                2
Name: 307, dtype: object

Numero                                                                      4
Ubicación                                                       San Francisco
Nombre                                 Apartamento en Torres de San Francisco
Disponibilidad                                                          VENTA
precio de Venta                                                        125000
Precio de Alquiler                                                        NaN
Recamaras                                                                   2
Baños                                                                       2
Dimensión                                                                  80
Tipo de vivienda                                                 APARTAMENTOS
vivienda nueva /vivienda de segunta                                         2
Name: 311, dtype: object

Numero                                                      4
Ubicación                                       San Francisco
Nombre                                 SAN FRANCISCO BAY T100
Disponibilidad                                          VENTA
precio de Venta                                        152500
Precio de Alquiler                                        NaN
Recamaras                                                   2
Baños                                                       3
Dimensión                                                 145
Tipo de vivienda                                 APARTAMENTOS
vivienda nueva /vivienda de segunta                         2
Name: 312, dtype: object

Numero                                             4
Ubicación                              San Francisco
Nombre                                   PH Sky Blue
Disponibilidad                                 VENTA
precio de Venta                               190000
Precio de Alquiler                               NaN
Recamaras                                          2
Baños                                              4
Dimensión                                        144
Tipo de vivienda                        APARTAMENTOS
vivienda nueva /vivienda de segunta                2
Name: 318, dtype: object

Numero                                                4
Ubicación                                 San Francisco
Nombre                                 PH HARMONY TOWER
Disponibilidad                             VENTALQUILER
precio de Venta                                  198000
Precio de Alquiler                                  NaN
Recamaras                                             1
Baños                                                 1
Dimensión                                           243
Tipo de vivienda                           APARTAMENTOS
vivienda nueva /vivienda de segunta                   2
Name: 320, dtype: object

Numero                                             4
Ubicación                              San Francisco
Nombre                                 HARMONY TOWER
Disponibilidad                                 VENTA
precio de Venta                               179000
Precio de Alquiler                               NaN
Recamaras                                          1
Baños                                              2
Dimensión                                        185
Tipo de vivienda                        APARTAMENTOS
vivienda nueva /vivienda de segunta                2
Name: 323, dtype: object

Numero                                             4
Ubicación                              San Francisco
Nombre                                    Aquamarina
Disponibilidad                                 VENTA
precio de Venta                               135000
Precio de Alquiler                               NaN
Recamaras                                          2
Baños                                              2
Dimensión                                        124
Tipo de vivienda                        APARTAMENTOS
vivienda nueva /vivienda de segunta                2
Name: 336, dtype: object

Numero                                                      4
Ubicación                                       San Francisco
Nombre                                 SAN FRANCISCO BAY T100
Disponibilidad                                          VENTA
precio de Venta                                        180000
Precio de Alquiler                                        NaN
Recamaras                                                   2
Baños                                                       2
Dimensión                                                 153
Tipo de vivienda                                 APARTAMENTOS
vivienda nueva /vivienda de segunta                         2
Name: 342, dtype: object

Numero                                             4
Ubicación                              San Francisco
Nombre                                      MONTEMAR
Disponibilidad                          VENTALQUILER
precio de Venta                               160000
Precio de Alquiler                               NaN
Recamaras                                          2
Baños                                              3
Dimensión                                        237
Tipo de vivienda                        APARTAMENTOS
vivienda nueva /vivienda de segunta                2
Name: 345, dtype: object

Numero                                              4
Ubicación                              San Francisco 
Nombre                                       MONTEMAR
Disponibilidad                                  VENTA
precio de Venta                                160000
Precio de Alquiler                                NaN
Recamaras                                           2
Baños                                               2
Dimensión                                         111
Tipo de vivienda                         APARTAMENTOS
vivienda nueva /vivienda de segunta                 2
Name: 350, dtype: object

Numero                                              4
Ubicación                              San Francisco 
Nombre                                   PLAZA MARINA
Disponibilidad                           VENTALQUILER
precio de Venta                                165000
Precio de Alquiler                                NaN
Recamaras                                           2
Baños                                               2
Dimensión                                         325
Tipo de vivienda                         APARTAMENTOS
vivienda nueva /vivienda de segunta                 2
Name: 351, dtype: object

Numero                                              4
Ubicación                              San Francisco 
Nombre                                        CAPRICE
Disponibilidad                                  VENTA
precio de Venta                                186000
Precio de Alquiler                                NaN
Recamaras                                           2
Baños                                               3
Dimensión                                         344
Tipo de vivienda                         APARTAMENTOS
vivienda nueva /vivienda de segunta                 2
Name: 356, dtype: object

Numero                                                4
Ubicación                                San Francisco 
Nombre                                 THE COSMOPOLITAN
Disponibilidad                                    VENTA
precio de Venta                                  199000
Precio de Alquiler                                  NaN
Recamaras                                             2
Baños                                                 2
Dimensión                                            98
Tipo de vivienda                           APARTAMENTOS
vivienda nueva /vivienda de segunta                   2
Name: 360, dtype: object

In [ ]:
import csv
ruta = 'Datoslimpio5.csv'
with open(ruta, newline='',encoding='utf-8') as f:
  c = csv.DictReader(f)
  for r in c:
    print(r['Nombre'])
In [ ]:
len(comparacion)
Out[ ]:
23
In [ ]:
comparacion
Out[ ]:
[725.0,
 656.0,
 707.0,
 349.0,
 569.0,
 621.0,
 449.0,
 552.0,
 621.0,
 652.0,
 725.0,
 431.0,
 526.0,
 656.0,
 683.0,
 618.0,
 466.0,
 621.0,
 552.0,
 552.0,
 569.0,
 642.0,
 687.0]
